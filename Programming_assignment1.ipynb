{
 "cells": [
  {
   "cell_type": "code",
   "execution_count": 2,
   "id": "73efb5d1",
   "metadata": {},
   "outputs": [
    {
     "name": "stdout",
     "output_type": "stream",
     "text": [
      "Hello Python\n"
     ]
    }
   ],
   "source": [
    "# 1. Write a Python program to print \"Hello Python\"?\n",
    "print(\"Hello Python\")"
   ]
  },
  {
   "cell_type": "code",
   "execution_count": 3,
   "id": "54b70a59",
   "metadata": {},
   "outputs": [
    {
     "name": "stdout",
     "output_type": "stream",
     "text": [
      "Enter 1st number 1\n",
      "Enter 2nd Number 2\n",
      "Sum of 1 and 2:  3\n",
      "1 divided by 2:  0.5\n"
     ]
    }
   ],
   "source": [
    "# 2. Write a Python program to do arithmetical operations addition and division?\n",
    "while True:\n",
    "    try:\n",
    "        a = int(input(\"Enter 1st number \"))\n",
    "        b = int(input(\"Enter 2nd Number \"))\n",
    "        print(f\"Sum of {a} and {b}: \",a+b)\n",
    "        print(f\"{a} divided by {b}: \",a/b)\n",
    "        break\n",
    "    except:\n",
    "        print(\"Enter a Non-Zero Integer value\")"
   ]
  },
  {
   "cell_type": "code",
   "execution_count": 6,
   "id": "d41bdaae",
   "metadata": {},
   "outputs": [
    {
     "name": "stdout",
     "output_type": "stream",
     "text": [
      "\n",
      "Enter three sides of a triangle in space separated format.Example: 4 15 3 : 1 2 3\n",
      "Sum of two sides has to be greater than third side. Enter Again\n",
      "\n",
      "Enter three sides of a triangle in space separated format.Example: 4 15 3 : 1 2 5\n",
      "Sum of two sides has to be greater than third side. Enter Again\n",
      "\n",
      "Enter three sides of a triangle in space separated format.Example: 4 15 3 : 1 1 1\n",
      "Area of triangle with Sides a=1,b=1,c=1 is:  0.4330127018922193\n"
     ]
    }
   ],
   "source": [
    "# 3. Write a Python program to find the area of a triangle?\n",
    "while True:\n",
    "    try:\n",
    "        sides = input(\"\\nEnter three sides of a triangle in space separated format.Example: 4 15 3 : \")\n",
    "        a,b,c = map(int,sides.split())\n",
    "        if (a==0 or b==0 or c==0):\n",
    "            print(\"Sides cannot be zero: Enter Again\")\n",
    "        elif (a+b) <= c or (b+c)<=a or (c+a) <=b:\n",
    "            print(\"Sum of two sides has to be greater than third side. Enter Again\")\n",
    "        else:\n",
    "            s = (a+b+c)/2\n",
    "            area = (s*(s-a)*(s-b)*(s-c))**0.5\n",
    "            print(f\"Area of triangle with Sides a={a},b={b},c={c} is: \",area)\n",
    "            break\n",
    "    except:\n",
    "        print(\"Please enter 3 Integer values with spaces in between.Example: 20 42 53\")\n",
    "        print('Enter again')"
   ]
  },
  {
   "cell_type": "code",
   "execution_count": 7,
   "id": "9d6711e4",
   "metadata": {},
   "outputs": [
    {
     "name": "stdout",
     "output_type": "stream",
     "text": [
      "\n",
      "Enter two numbers in space separated format. Example 10 24 : 4 5\n",
      "Two numbers a and b are  4 5\n",
      "After swapping, new a and b are 5 4\n"
     ]
    }
   ],
   "source": [
    "# 4. Write a Python program to swap two variables?\n",
    "while True:\n",
    "    try:\n",
    "        numbers = input(\"\\nEnter two numbers in space separated format. Example 10 24 : \")\n",
    "        a,b = map(int,numbers.split())\n",
    "        print(\"Two numbers a and b are \",a,b)\n",
    "        a,b = b,a\n",
    "        print(\"After swapping, new a and b are\",a,b)\n",
    "        break\n",
    "    except:\n",
    "        print('\\nEnter only 2 integer values with single space in between. Example 10 20')\n",
    "        print(\"Enter Again: \")"
   ]
  },
  {
   "cell_type": "code",
   "execution_count": 8,
   "id": "7264e59f",
   "metadata": {},
   "outputs": [
    {
     "name": "stdout",
     "output_type": "stream",
     "text": [
      "\n",
      "random number between 1,100 is 15\n"
     ]
    }
   ],
   "source": [
    "# 5. Write a Python program to generate a random number?\n",
    "import random\n",
    "rand = random.randint(1,100)\n",
    "print(\"\\nrandom number between 1,100 is\",rand)"
   ]
  },
  {
   "cell_type": "code",
   "execution_count": null,
   "id": "805ee740",
   "metadata": {},
   "outputs": [],
   "source": []
  }
 ],
 "metadata": {
  "kernelspec": {
   "display_name": "Python 3",
   "language": "python",
   "name": "python3"
  },
  "language_info": {
   "codemirror_mode": {
    "name": "ipython",
    "version": 3
   },
   "file_extension": ".py",
   "mimetype": "text/x-python",
   "name": "python",
   "nbconvert_exporter": "python",
   "pygments_lexer": "ipython3",
   "version": "3.8.8"
  }
 },
 "nbformat": 4,
 "nbformat_minor": 5
}
