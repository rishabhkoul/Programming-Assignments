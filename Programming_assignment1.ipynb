{
 "cells": [
  {
   "cell_type": "code",
   "execution_count": null,
   "id": "58d6eeba",
   "metadata": {},
   "outputs": [],
   "source": [
    "# 1. Write a Python program to print \"Hello Python\"?\n",
    "print(\"Hello Python\")"
   ]
  },
  {
   "cell_type": "code",
   "execution_count": null,
   "id": "7ac89747",
   "metadata": {},
   "outputs": [],
   "source": [
    "# 2. Write a Python program to do arithmetical operations addition and division?\n",
    "while True:\n",
    "    try:\n",
    "        a = int(input(\"Enter 1st number \"))\n",
    "        b = int(input(\"Enter 2nd Number \"))\n",
    "        print(f\"Sum of {a} and {b}: \",a+b)\n",
    "        print(f\"{a} divided by {b}: \",a/b)\n",
    "        break\n",
    "    except:\n",
    "        print(\"Enter a Non-Zero Integer value\")"
   ]
  },
  {
   "cell_type": "code",
   "execution_count": null,
   "id": "8348653d",
   "metadata": {},
   "outputs": [],
   "source": [
    "# 3. Write a Python program to find the area of a triangle?\n",
    "while True:\n",
    "    try:\n",
    "        sides = input(\"\\nEnter three sides of a triangle in space separated format.Example: 4 15 3 : \")\n",
    "        a,b,c = map(int,sides.split())\n",
    "        if (a==0 or b==0 or c==0):\n",
    "            print(\"Sides cannot be zero: Enter Again\")\n",
    "        elif (a+b) <= c or (b+c)<=a or (c+a) <=b:\n",
    "            print(\"Sum of two sides has to be greater than third side. Enter Again\")\n",
    "        else:\n",
    "            s = (a+b+c)/2\n",
    "            area = (s*(s-a)*(s-b)*(s-c))**0.5\n",
    "            print(f\"Area of triangle with Sides a={a},b={b},c={c} is: \",area)\n",
    "            break\n",
    "    except:\n",
    "        print(\"Please enter 3 Integer values with spaces in between.Example: 20 42 53\")\n",
    "        print('Enter again')"
   ]
  },
  {
   "cell_type": "code",
   "execution_count": null,
   "id": "01e8c272",
   "metadata": {},
   "outputs": [],
   "source": [
    "# 4. Write a Python program to swap two variables?\n",
    "while True:\n",
    "    try:\n",
    "        numbers = input(\"\\nEnter two numbers in space separated format. Example 10 24 : \")\n",
    "        a,b = map(int,numbers.split())\n",
    "        print(\"Two numbers a and b are \",a,b)\n",
    "        a,b = b,a\n",
    "        print(\"After swapping, new a and b are\",a,b)\n",
    "        break\n",
    "    except:\n",
    "        print('\\nEnter only 2 integer values with single space in between. Example 10 20')\n",
    "        print(\"Enter Again: \")"
   ]
  },
  {
   "cell_type": "code",
   "execution_count": null,
   "id": "da366818",
   "metadata": {},
   "outputs": [],
   "source": [
    "# 5. Write a Python program to generate a random number?\n",
    "import random\n",
    "while True:\n",
    "    try:\n",
    "        numbers = input(\"Enter two values between which to generate a random integer\")\n",
    "        a,b = map(int,numbers.split())\n",
    "        rand = random.randint(a,b)\n",
    "        print(f\"random number between {a} and {b} is\",rand)\n",
    "        break\n",
    "    except:\n",
    "        print(\"Please enter two integers in space separated format. Example: 1 100\")\n",
    "        print(\"Enter again\")"
   ]
  },
  {
   "cell_type": "code",
   "execution_count": null,
   "id": "ea081145",
   "metadata": {},
   "outputs": [],
   "source": []
  }
 ],
 "metadata": {
  "kernelspec": {
   "display_name": "Python 3",
   "language": "python",
   "name": "python3"
  },
  "language_info": {
   "codemirror_mode": {
    "name": "ipython",
    "version": 3
   },
   "file_extension": ".py",
   "mimetype": "text/x-python",
   "name": "python",
   "nbconvert_exporter": "python",
   "pygments_lexer": "ipython3",
   "version": "3.8.8"
  }
 },
 "nbformat": 4,
 "nbformat_minor": 5
}
